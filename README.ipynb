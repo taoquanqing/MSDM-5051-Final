{
 "cells": [
  {
   "cell_type": "markdown",
   "id": "6194ce24",
   "metadata": {},
   "source": [
    "# Data Inquiry System\n",
    "## About \n",
    "- A web based app for MSDM 5051 course project 2.\n",
    "- Authors: *TAO Quanqing*, *HU Xinyu*, and *XIAO Jun*\n",
    "\n",
    "## Step to run\n",
    "**1- Environment**\n",
    "- python: ver. 3.10 or higher\n",
    "- streamlit: ver. 1.12.0\n",
    "- streamlit-aggrid: ver. 0.3.3\n",
    "\n",
    "**2- Command**\n",
    "- Run\n",
    "    - Enter command \"streamlit run your_path \" in command-line interface\n",
    "    - (your_path is the path you save your .py file) \n",
    "- Stop\n",
    "    - Enter $Control + C$ in command-line interface\n",
    "    \n",
    "**3- Note**\n",
    "- If the app stucked, you need to stop it in command-line interface and rerun it.\n",
    "- The default dataframe is TDCS_M06A_20190830_080000.csv (if skip upload process the app will aotumatically use it). Anytime you can reset fixed dataframe to default dataframe by \"Use default dataframe\" buttom in \"Load\" module.\n",
    "- When use sort algorithms with high time complexity (eg. BST sort and AVL sort), you may not be able to get the result within an acceptable time. If you want to interrupt it, you need to rerun the app.\n",
    "\n",
    "## Algorithm\n",
    "- To avoid stack overflow, we rewrote the *inorder()* funciton in class *BinaryTree* and *insert()* function in class *BinarySearchTree* with loop method instead of recursion."
   ]
  }
 ],
 "metadata": {
  "kernelspec": {
   "display_name": "Python 3 (ipykernel)",
   "language": "python",
   "name": "python3"
  },
  "language_info": {
   "codemirror_mode": {
    "name": "ipython",
    "version": 3
   },
   "file_extension": ".py",
   "mimetype": "text/x-python",
   "name": "python",
   "nbconvert_exporter": "python",
   "pygments_lexer": "ipython3",
   "version": "3.9.7"
  }
 },
 "nbformat": 4,
 "nbformat_minor": 5
}
